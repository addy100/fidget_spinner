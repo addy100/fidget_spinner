{
 "cells": [
  {
   "cell_type": "code",
   "execution_count": 1,
   "metadata": {},
   "outputs": [],
   "source": [
    "from turtle import *"
   ]
  },
  {
   "cell_type": "raw",
   "metadata": {},
   "source": [
    "rev = {'turn': 0}\n",
    "def spinner();\n",
    "    clear()\n",
    "    angle = rev['turn']/10\n",
    "    right(angle)\n",
    "    forward(100)\n",
    "    dot(120, 'red')\n",
    "    back(100)\n",
    "    rirght(120)\n",
    "    forward(100)\n",
    "    \n",
    "    dot(120,'blue')\n",
    "    back(100)\n",
    "    right(120)\n",
    "    forward(100)\n",
    "    \n",
    "    dot(120,'green')\n",
    "    back(100)\n",
    "    right(120)\n",
    "    update()\n",
    "    \n",
    "def animate()\n",
    "    if rev['turn']>0:\n",
    "        rev['turn']-=1\n",
    "        \n",
    "    spinner()\n",
    "    ontimer(animate, 20)\n",
    "   \n",
    "def flick()\n",
    "    rev['turn']+=10\n",
    "    \n",
    "setup(420,420,370,0)\n",
    "hideturtle()\n",
    "tracer(False)\n",
    "width(20)\n",
    "onkey(flick, 'space')\n",
    "listen()\n",
    "animate()\n",
    "done()"
   ]
  },
  {
   "cell_type": "code",
   "execution_count": null,
   "metadata": {},
   "outputs": [],
   "source": []
  }
 ],
 "metadata": {
  "kernelspec": {
   "display_name": "Python 3",
   "language": "python",
   "name": "python3"
  },
  "language_info": {
   "codemirror_mode": {
    "name": "ipython",
    "version": 3
   },
   "file_extension": ".py",
   "mimetype": "text/x-python",
   "name": "python",
   "nbconvert_exporter": "python",
   "pygments_lexer": "ipython3",
   "version": "3.7.9"
  }
 },
 "nbformat": 4,
 "nbformat_minor": 4
}
